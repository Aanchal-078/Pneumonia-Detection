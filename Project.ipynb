{
 "cells": [
  {
   "cell_type": "code",
   "execution_count": 1,
   "id": "f0417836",
   "metadata": {},
   "outputs": [],
   "source": [
    "import os\n",
    "import numpy as np\n",
    "import matplotlib.pyplot as plt\n",
    "from tensorflow.keras.preprocessing.image import ImageDataGenerator\n",
    "from tensorflow.keras.applications import VGG16, ResNet50, MobileNetV2\n",
    "from tensorflow.keras import layers, models\n",
    "from sklearn.metrics import classification_report, accuracy_score\n",
    "from tensorflow.keras.callbacks import EarlyStopping"
   ]
  },
  {
   "cell_type": "code",
   "execution_count": 10,
   "id": "0ff917f6",
   "metadata": {},
   "outputs": [
    {
     "name": "stdout",
     "output_type": "stream",
     "text": [
      "Found 4183 images belonging to 3 classes.\n",
      "Found 208 images belonging to 3 classes.\n",
      "Found 837 images belonging to 3 classes.\n"
     ]
    }
   ],
   "source": [
    "# Define directories\n",
    "train_dir = 'C:/Users/DELL/Downloads/archive (6)/train'\n",
    "valid_dir = 'C:/Users/DELL/Downloads/archive (6)/val'\n",
    "test_dir = 'C:/Users/DELL/Downloads/archive (6)/test'\n",
    "\n",
    "# Data augmentation for training data\n",
    "train_datagen = ImageDataGenerator(rescale=1./255)\n",
    "\n",
    "valid_datagen = ImageDataGenerator(rescale=1./255)\n",
    "test_datagen = ImageDataGenerator(rescale=1./255)\n",
    "\n",
    "# Load images from directories\n",
    "train_generator = train_datagen.flow_from_directory(\n",
    "    train_dir,\n",
    "    target_size=(224, 224),\n",
    "    batch_size=32,\n",
    "    class_mode='categorical'\n",
    ")\n",
    "\n",
    "valid_generator = valid_datagen.flow_from_directory(\n",
    "    valid_dir,\n",
    "    target_size=(224, 224),\n",
    "    batch_size=32,\n",
    "    class_mode='categorical'\n",
    ")\n",
    "\n",
    "test_generator = test_datagen.flow_from_directory(\n",
    "    test_dir,\n",
    "    target_size=(224, 224),\n",
    "    batch_size=32,\n",
    "    class_mode='categorical',\n",
    "    shuffle=False\n",
    ")\n"
   ]
  },
  {
   "cell_type": "code",
   "execution_count": 11,
   "id": "f98587d1",
   "metadata": {},
   "outputs": [],
   "source": [
    "def create_model(base_model):\n",
    "    model = models.Sequential()\n",
    "    model.add(base_model)\n",
    "    model.add(layers.Flatten())\n",
    "    model.add(layers.Dense(128, activation='relu'))\n",
    "    model.add(layers.Dense(3, activation='softmax'))  # 3 classes: PNEUMONIA, NORMAL, COVID\n",
    "    return model\n",
    "\n",
    "# Load base models without the top layer\n",
    "base_vgg = VGG16(weights='imagenet', include_top=False, input_shape=(224, 224, 3))\n",
    "base_resnet = ResNet50(weights='imagenet', include_top=False, input_shape=(224, 224, 3))\n",
    "base_mobilenet = MobileNetV2(weights='imagenet', include_top=False, input_shape=(224, 224, 3))\n",
    "\n",
    "# Freeze base model layers\n",
    "for layer in base_vgg.layers:\n",
    "    layer.trainable = False\n",
    "for layer in base_resnet.layers:\n",
    "    layer.trainable = False\n",
    "for layer in base_mobilenet.layers:\n",
    "    layer.trainable = False\n",
    "\n",
    "# Create models\n",
    "vgg_model = create_model(base_vgg)\n",
    "resnet_model = create_model(base_resnet)\n",
    "mobilenet_model = create_model(base_mobilenet)\n",
    "\n",
    "# Compile models\n",
    "for model in [vgg_model, resnet_model, mobilenet_model]:\n",
    "    model.compile(optimizer='adam', loss='categorical_crossentropy', metrics=['accuracy'])\n"
   ]
  },
  {
   "cell_type": "code",
   "execution_count": 12,
   "id": "ecd90c8f",
   "metadata": {},
   "outputs": [],
   "source": [
    "# Define early stopping\n",
    "early_stopping = EarlyStopping(monitor='val_accuracy', patience=5, restore_best_weights=True)\n",
    "\n",
    "# Train models\n",
    "vgg_model.fit(train_generator, validation_data=valid_generator, epochs=20, callbacks=[early_stopping])\n",
    "resnet_model.fit(train_generator, validation_data=valid_generator, epochs=20, callbacks=[early_stopping])\n",
    "mobilenet_model.fit(train_generator, validation_data=valid_generator, epochs=20, callbacks=[early_stopping])\n"
   ]
  },
  {
   "cell_type": "code",
   "execution_count": 13,
   "id": "8666b106",
   "metadata": {},
   "outputs": [],
   "source": [
    "# Save the models after training\n",
    "vgg_model.save('vgg_model.h5')\n",
    "resnet_model.save('resnet_model.h5')\n",
    "mobilenet_model.save('mobilenet_model.h5')"
   ]
  },
  {
   "cell_type": "code",
   "execution_count": 14,
   "id": "41a31e99",
   "metadata": {},
   "outputs": [
    {
     "name": "stderr",
     "output_type": "stream",
     "text": [
      "WARNING:absl:Compiled the loaded model, but the compiled metrics have yet to be built. `model.compile_metrics` will be empty until you train or evaluate the model.\n",
      "WARNING:absl:Compiled the loaded model, but the compiled metrics have yet to be built. `model.compile_metrics` will be empty until you train or evaluate the model.\n",
      "WARNING:absl:Compiled the loaded model, but the compiled metrics have yet to be built. `model.compile_metrics` will be empty until you train or evaluate the model.\n"
     ]
    }
   ],
   "source": [
    "from tensorflow.keras.models import load_model\n",
    "# Load the models\n",
    "vgg_model = load_model('vgg_model.h5')\n",
    "resnet_model = load_model('resnet_model.h5')\n",
    "mobilenet_model = load_model('mobilenet_model.h5')"
   ]
  },
  {
   "cell_type": "code",
   "execution_count": 15,
   "id": "a7ab6183",
   "metadata": {},
   "outputs": [
    {
     "name": "stdout",
     "output_type": "stream",
     "text": [
      "\u001b[1m27/27\u001b[0m \u001b[32m━━━━━━━━━━━━━━━━━━━━\u001b[0m\u001b[37m\u001b[0m \u001b[1m141s\u001b[0m 5s/step - accuracy: 0.9846 - loss: 0.0893\n",
      "Test Accuracy: 0.9665\n",
      "\u001b[1m27/27\u001b[0m \u001b[32m━━━━━━━━━━━━━━━━━━━━\u001b[0m\u001b[37m\u001b[0m \u001b[1m67s\u001b[0m 2s/step - accuracy: 0.7714 - loss: 0.7639\n",
      "Test Accuracy: 0.6989\n",
      "\u001b[1m27/27\u001b[0m \u001b[32m━━━━━━━━━━━━━━━━━━━━\u001b[0m\u001b[37m\u001b[0m \u001b[1m27s\u001b[0m 800ms/step - accuracy: 0.9714 - loss: 0.0901\n",
      "Test Accuracy: 0.9582\n",
      "Model Accuracies:\n",
      "VGG16: 0.9665\n",
      "ResNet50: 0.6989\n",
      "MobileNetV2: 0.9582\n"
     ]
    }
   ],
   "source": [
    "def evaluate_model(model, test_generator):\n",
    "    test_loss, test_accuracy = model.evaluate(test_generator)\n",
    "    print(f'Test Accuracy: {test_accuracy:.4f}')\n",
    "    return test_accuracy\n",
    "\n",
    "vgg_accuracy = evaluate_model(vgg_model, test_generator)\n",
    "resnet_accuracy = evaluate_model(resnet_model, test_generator)\n",
    "mobilenet_accuracy = evaluate_model(mobilenet_model, test_generator)\n",
    "\n",
    "# Compare accuracies\n",
    "accuracies = {\n",
    "    'VGG16': vgg_accuracy,\n",
    "    'ResNet50': resnet_accuracy,\n",
    "    'MobileNetV2': mobilenet_accuracy\n",
    "}\n",
    "\n",
    "print(\"Model Accuracies:\")\n",
    "for model, accuracy in accuracies.items():\n",
    "    print(f\"{model}: {accuracy:.4f}\")\n"
   ]
  },
  {
   "cell_type": "code",
   "execution_count": 16,
   "id": "aafecd79",
   "metadata": {},
   "outputs": [
    {
     "name": "stdout",
     "output_type": "stream",
     "text": [
      "\u001b[1m1/1\u001b[0m \u001b[32m━━━━━━━━━━━━━━━━━━━━\u001b[0m\u001b[37m\u001b[0m \u001b[1m0s\u001b[0m 385ms/step\n",
      "WARNING:tensorflow:5 out of the last 8 calls to <function TensorFlowTrainer.make_predict_function.<locals>.one_step_on_data_distributed at 0x00000251E1FF5760> triggered tf.function retracing. Tracing is expensive and the excessive number of tracings could be due to (1) creating @tf.function repeatedly in a loop, (2) passing tensors with different shapes, (3) passing Python objects instead of tensors. For (1), please define your @tf.function outside of the loop. For (2), @tf.function has reduce_retracing=True option that can avoid unnecessary retracing. For (3), please refer to https://www.tensorflow.org/guide/function#controlling_retracing and https://www.tensorflow.org/api_docs/python/tf/function for  more details.\n"
     ]
    },
    {
     "name": "stderr",
     "output_type": "stream",
     "text": [
      "WARNING:tensorflow:5 out of the last 8 calls to <function TensorFlowTrainer.make_predict_function.<locals>.one_step_on_data_distributed at 0x00000251E1FF5760> triggered tf.function retracing. Tracing is expensive and the excessive number of tracings could be due to (1) creating @tf.function repeatedly in a loop, (2) passing tensors with different shapes, (3) passing Python objects instead of tensors. For (1), please define your @tf.function outside of the loop. For (2), @tf.function has reduce_retracing=True option that can avoid unnecessary retracing. For (3), please refer to https://www.tensorflow.org/guide/function#controlling_retracing and https://www.tensorflow.org/api_docs/python/tf/function for  more details.\n"
     ]
    },
    {
     "name": "stdout",
     "output_type": "stream",
     "text": [
      "\u001b[1m1/1\u001b[0m \u001b[32m━━━━━━━━━━━━━━━━━━━━\u001b[0m\u001b[37m\u001b[0m \u001b[1m2s\u001b[0m 2s/step\n",
      "WARNING:tensorflow:6 out of the last 9 calls to <function TensorFlowTrainer.make_predict_function.<locals>.one_step_on_data_distributed at 0x00000251E2332D40> triggered tf.function retracing. Tracing is expensive and the excessive number of tracings could be due to (1) creating @tf.function repeatedly in a loop, (2) passing tensors with different shapes, (3) passing Python objects instead of tensors. For (1), please define your @tf.function outside of the loop. For (2), @tf.function has reduce_retracing=True option that can avoid unnecessary retracing. For (3), please refer to https://www.tensorflow.org/guide/function#controlling_retracing and https://www.tensorflow.org/api_docs/python/tf/function for  more details.\n"
     ]
    },
    {
     "name": "stderr",
     "output_type": "stream",
     "text": [
      "WARNING:tensorflow:6 out of the last 9 calls to <function TensorFlowTrainer.make_predict_function.<locals>.one_step_on_data_distributed at 0x00000251E2332D40> triggered tf.function retracing. Tracing is expensive and the excessive number of tracings could be due to (1) creating @tf.function repeatedly in a loop, (2) passing tensors with different shapes, (3) passing Python objects instead of tensors. For (1), please define your @tf.function outside of the loop. For (2), @tf.function has reduce_retracing=True option that can avoid unnecessary retracing. For (3), please refer to https://www.tensorflow.org/guide/function#controlling_retracing and https://www.tensorflow.org/api_docs/python/tf/function for  more details.\n"
     ]
    },
    {
     "name": "stdout",
     "output_type": "stream",
     "text": [
      "\u001b[1m1/1\u001b[0m \u001b[32m━━━━━━━━━━━━━━━━━━━━\u001b[0m\u001b[37m\u001b[0m \u001b[1m1s\u001b[0m 1s/step\n"
     ]
    }
   ],
   "source": [
    "import tkinter as tk\n",
    "from tkinter import filedialog, messagebox\n",
    "from PIL import Image, ImageTk\n",
    "def preprocess_image(image_path):\n",
    "    img = Image.open(image_path).resize((224, 224))\n",
    "    img_array = np.array(img) / 255.0\n",
    "    img_array = np.expand_dims(img_array, axis=0)\n",
    "    return img_array\n",
    "\n",
    "def predict_image(image_path):\n",
    "    img_array = preprocess_image(image_path)\n",
    "    vgg_pred = vgg_model.predict(img_array)\n",
    "    resnet_pred = resnet_model.predict(img_array)\n",
    "    mobilenet_pred = mobilenet_model.predict(img_array)\n",
    "    avg_pred = (vgg_pred + resnet_pred + mobilenet_pred) / 3\n",
    "    predicted_class = np.argmax(avg_pred, axis=1)\n",
    "    class_labels = list(train_generator.class_indices.keys())\n",
    "    predicted_label = class_labels[predicted_class[0]]\n",
    "    return predicted_label\n",
    "\n",
    "def upload_image():\n",
    "    file_path = filedialog.askopenfilename(title=\"Select an Image\", \n",
    "                                            filetypes=[(\"Image Files\", \"*.jpg;*.jpeg;*.png\")])\n",
    "    if file_path:\n",
    "        img = Image.open(file_path).resize((200, 200))\n",
    "        img_tk = ImageTk.PhotoImage(img)\n",
    "        img_label.config(image=img_tk)\n",
    "        img_label.image = img_tk\n",
    "        prediction = predict_image(file_path)\n",
    "        messagebox.showinfo(\"Prediction\", f\"The image is predicted to be: {prediction}\")\n",
    "\n",
    "# Create the main Tkinter window\n",
    "root = tk.Tk()\n",
    "root.title(\"X-ray Image Prediction\")\n",
    "root.configure(bg=\"black\")\n",
    "# Add a button to upload an image\n",
    "upload_button = tk.Button(root, text=\"Upload X-ray Image\", command=upload_image, bg=\"black\", fg=\"white\")\n",
    "upload_button.pack(pady=20)\n",
    "\n",
    "# Label to display the image\n",
    "img_label = tk.Label(root)\n",
    "img_label.pack(pady=10)\n",
    "\n",
    "# Run the Tkinter event loop\n",
    "root.mainloop()"
   ]
  },
  {
   "cell_type": "code",
   "execution_count": null,
   "id": "ce4764b5",
   "metadata": {},
   "outputs": [],
   "source": [
    "ki"
   ]
  }
 ],
 "metadata": {
  "kernelspec": {
   "display_name": "Python 3 (ipykernel)",
   "language": "python",
   "name": "python3"
  },
  "language_info": {
   "codemirror_mode": {
    "name": "ipython",
    "version": 3
   },
   "file_extension": ".py",
   "mimetype": "text/x-python",
   "name": "python",
   "nbconvert_exporter": "python",
   "pygments_lexer": "ipython3",
   "version": "3.11.4"
  }
 },
 "nbformat": 4,
 "nbformat_minor": 5
}
